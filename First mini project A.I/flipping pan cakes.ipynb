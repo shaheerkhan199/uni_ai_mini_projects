{
 "cells": [
  {
   "cell_type": "code",
   "execution_count": 27,
   "metadata": {},
   "outputs": [
    {
     "name": "stdout",
     "output_type": "stream",
     "text": [
      "[2, 3, 1, 8, 6]\n"
     ]
    },
    {
     "data": {
      "text/plain": [
       "[7, 9, 5, 4, 6, 8, 1, 3, 2]"
      ]
     },
     "execution_count": 27,
     "metadata": {},
     "output_type": "execute_result"
    }
   ],
   "source": [
    "#method 1\n",
    "def flip(currentState,index):\n",
    "        newStackOfPanCakes = currentState[:]\n",
    "        sliceOfStack = currentState[index:]\n",
    "        print(sliceOfStack)\n",
    "        sliceOfStack.reverse()\n",
    "        for i in range(index,len(currentState)):\n",
    "            newStackOfPanCakes[i] = sliceOfStack[i-index]\n",
    "        return newStackOfPanCakes\n",
    "arr = [7,9,5,4,2,3,1,8,6]\n",
    "index = 4\n",
    "flip(arr,index)\n",
    "\n"
   ]
  },
  {
   "cell_type": "code",
   "execution_count": 32,
   "metadata": {},
   "outputs": [
    {
     "data": {
      "text/plain": [
       "[7, 9, 5, 4, 6, 8, 1, 3, 2]"
      ]
     },
     "execution_count": 32,
     "metadata": {},
     "output_type": "execute_result"
    }
   ],
   "source": [
    "#method 2\n",
    "def flip(currentState,index):\n",
    "        newStackOfPanCakes = currentState[:]\n",
    "        sliceOfStack = currentState[index:]\n",
    "        sliceOfStack.reverse()\n",
    "        del newStackOfPanCakes[index:]\n",
    "        newStackOfPanCakes.extend(sliceOfStack)\n",
    "        return newStackOfPanCakes\n",
    "arr = [7,9,5,4,2,3,1,8,6]\n",
    "index = 4\n",
    "flip(arr,index)\n"
   ]
  },
  {
   "cell_type": "code",
   "execution_count": 30,
   "metadata": {},
   "outputs": [
    {
     "data": {
      "text/plain": [
       "[7, 9, 5, 4, 6, 8, 1, 3, 2]"
      ]
     },
     "execution_count": 30,
     "metadata": {},
     "output_type": "execute_result"
    }
   ],
   "source": [
    "#method 3\n",
    "def fliptest(currentState,index):\n",
    "    return currentState[:index]+currentState[index:][::-1]\n",
    "arr = [7,9,5,4,2,3,1,8,6]\n",
    "index = 4\n",
    "fliptest(arr,index)\n"
   ]
  },
  {
   "cell_type": "code",
   "execution_count": null,
   "metadata": {},
   "outputs": [],
   "source": []
  }
 ],
 "metadata": {
  "kernelspec": {
   "display_name": "Python 3",
   "language": "python",
   "name": "python3"
  },
  "language_info": {
   "codemirror_mode": {
    "name": "ipython",
    "version": 3
   },
   "file_extension": ".py",
   "mimetype": "text/x-python",
   "name": "python",
   "nbconvert_exporter": "python",
   "pygments_lexer": "ipython3",
   "version": "3.7.1"
  }
 },
 "nbformat": 4,
 "nbformat_minor": 2
}
